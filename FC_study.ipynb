{
 "cells": [
  {
   "cell_type": "code",
   "execution_count": 1,
   "id": "800dc312",
   "metadata": {},
   "outputs": [],
   "source": [
    "import numpy as np\n",
    "import pandas as pd\n",
    "import scipy\n",
    "import matplotlib.pyplot as plt\n",
    "plt.style.use(\"ggplot\")\n",
    "%matplotlib inline\n",
    "\n",
    "import graph_tool.all as gt\n",
    "# import networkx as nx\n",
    "\n",
    "\n",
    "from hoi.metrics import Oinfo, TC, DTC, Sinfo, GradientOinfo\n",
    "from hoi.utils import get_nbest_mult\n",
    "from hoi.metrics import InfoTopo\n",
    "from hoi.plot import plot_landscape\n",
    "\n",
    "# since we are dealing with larger matrices here, we use thoi mostly\n",
    "from thoi.measures.gaussian_copula import multi_order_measures, nplets_measures\n",
    "from thoi.heuristics import simulated_annealing, greedy"
   ]
  },
  {
   "cell_type": "code",
   "execution_count": null,
   "id": "7cacbb54",
   "metadata": {},
   "outputs": [],
   "source": [
    "def network_energy(corrmat: np.ndarray, cuberootQ: bool = False) -> float:\n",
    "    \"\"\"\n",
    "    Compute the network energy-balance U from a correlation matrix.\n",
    "\n",
    "    ---\n",
    "    Notes:\n",
    "    code adapted from: https://github.com/majidsaberi/NetEnergyCogControl/blob/main/NetworkEnergy.R\n",
    "    Originally written in R by Majid Saberi, March, 2024\n",
    "    \n",
    "    in this version, you can choose whther using the cuberoot, such as in Saberi et al (2024) or without, such as in Marvel and Strogatz (2009)\n",
    "    Adapted to Python by Enrico Caprioglio, July, 2025\n",
    "    \"\"\"\n",
    "\n",
    "    if corrmat.ndim != 2 or corrmat.shape[0] != corrmat.shape[1]:\n",
    "        raise ValueError(\"corrmat must be a square 2-D array\")\n",
    "\n",
    "    n = corrmat.shape[0]\n",
    "    if n < 3:\n",
    "        raise ValueError(\"At least three nodes are required (matrix must be 3×3 or larger)\")\n",
    "\n",
    "    total_energy = 0.0\n",
    "    triplet_count = 0\n",
    "\n",
    "    # iterate over unordered triplets (i < j < k)\n",
    "    for i in range(n - 2):\n",
    "        for j in range(i + 1, n - 1):\n",
    "            for k in range(j + 1, n):\n",
    "                prod = corrmat[i, j] * corrmat[i, k] * corrmat[k, j]\n",
    "                \n",
    "                if cuberootQ == False:\n",
    "                    # Marvel and Strogatz (2009) – no cube root\n",
    "                    triplet_energy = np.sign(prod) * abs(prod)\n",
    "                else:\n",
    "                    # cube-root variant (such as Saberi et al (2024))\n",
    "                    triplet_energy = np.sign(prod) * np.cbrt(abs(prod))\n",
    "\n",
    "                total_energy += triplet_energy\n",
    "                triplet_count += 1\n",
    "\n",
    "    return -total_energy / triplet_count"
   ]
  },
  {
   "cell_type": "code",
   "execution_count": 3,
   "id": "0479733c",
   "metadata": {},
   "outputs": [],
   "source": [
    "plt.style.use('seaborn-v0_8-whitegrid')"
   ]
  },
  {
   "cell_type": "markdown",
   "id": "5101d2a9",
   "metadata": {},
   "source": [
    "# Brain functional connectivity study\n",
    "\n",
    "Data is publicly avalable from (clickable link):\n",
    "- Rieck et al (2021) [Dataset of functional connectivity during cognitive control for an adult lifespan sample](https://doi.org/10.1016/j.dib.2021.107573)"
   ]
  },
  {
   "cell_type": "code",
   "execution_count": 5,
   "id": "93ec8b74",
   "metadata": {},
   "outputs": [],
   "source": [
    "def collect_data_from_FC(filename, order, repeat=10, method='greedy', verbose=True):\n",
    "\n",
    "    if verbose:\n",
    "        print(\"Running   :\", method.capitalize())\n",
    "        print(\"Filename      :\", filename)\n",
    "        print(\"n‒plet order  :\", order)\n",
    "        print(\"No. of repeats  :\", repeat)\n",
    "\n",
    "    # not the most robust way to do this ... these are the files I have\n",
    "    if filename[-3:] == 'npy':\n",
    "        corrmat = np.load(filename)\n",
    "    if filename[-3:] == 'txt':\n",
    "        corrmat = np.loadtxt(filename)\n",
    "\n",
    "    if method=='greedy':\n",
    "\n",
    "        # ---- Greedy algorithm ---- #\n",
    "        syn_nplets, syn_O_data = greedy(\n",
    "            corrmat, 3, order, covmat_precomputed=True, repeat=repeat, metric='o'\n",
    "            )\n",
    "        red_nplets, red_O_data = greedy(\n",
    "            corrmat, 3, order, covmat_precomputed=True, repeat=repeat, largest=True, metric='o'\n",
    "            )\n",
    "        \n",
    "        # note if using greedy:\n",
    "        # the last column selects the O-info of the nplet of order=order\n",
    "        # the first colum is instead the starting O-info used in the algorithm\n",
    "        O_syn = syn_O_data[:, order-3]\n",
    "        O_red = red_O_data[:, order-3]\n",
    "\n",
    "        return syn_nplets, O_syn, red_nplets, O_red\n",
    "    \n",
    "    if method=='annealing':\n",
    "\n",
    "        # ---- Simulated Annealing ---- #\n",
    "        syn_nplets, O_syn = simulated_annealing(\n",
    "            corrmat, order=order, covmat_precomputed=True, repeat=repeat, early_stop=10000\n",
    "            )\n",
    "        red_nplets, O_red = simulated_annealing(\n",
    "            corrmat, order=order, covmat_precomputed=True, repeat=repeat, early_stop=10000, largest=True\n",
    "            )\n",
    "        \n",
    "        return syn_nplets, O_syn, red_nplets, O_red"
   ]
  },
  {
   "cell_type": "code",
   "execution_count": 7,
   "id": "b393bc0e",
   "metadata": {},
   "outputs": [],
   "source": [
    "def collect_U(filename, nplets, cuberootQ=False):\n",
    "\n",
    "    # not the most robust way to do this ... these are the files I have\n",
    "    if filename[-3:] == 'npy':\n",
    "        corrmat = np.load(filename)\n",
    "    if filename[-3:] == 'txt':\n",
    "        corrmat = np.loadtxt(filename)\n",
    "    U_data = []\n",
    "\n",
    "    for (idx, nplet) in enumerate(nplets):\n",
    "        U = network_energy(corrmat[np.ix_(nplet, nplet)], cuberootQ=cuberootQ)\n",
    "        U_data.append(U)\n",
    "\n",
    "    return U_data"
   ]
  },
  {
   "cell_type": "code",
   "execution_count": null,
   "id": "6db45ce4",
   "metadata": {},
   "outputs": [
    {
     "name": "stdout",
     "output_type": "stream",
     "text": [
      "Running   : Greedy\n",
      "Filename      : /Users/ec627/Documents/Data/fMRI_data_powers_cognitive_tasks/power229_with_rest/Power229_10_sub-001_rest.txt\n",
      "n‒plet order  : 4\n",
      "No. of repeats  : 100\n"
     ]
    },
    {
     "name": "stderr",
     "output_type": "stream",
     "text": [
      "Order:   0%|          | 0/1 [00:00<?, ?it/s]        \n",
      "\u001b[A\n",
      "Order:   0%|          | 0/1 [00:00<?, ?it/s]        \n",
      "\u001b[A\n",
      "                                            \r"
     ]
    },
    {
     "data": {
      "text/plain": [
       "<matplotlib.collections.PathCollection at 0x38ba75f90>"
      ]
     },
     "execution_count": 10,
     "metadata": {},
     "output_type": "execute_result"
    },
    {
     "data": {
      "image/png": "[encoded data removed]",
      "text/plain": [
       "<Figure size 640x480 with 1 Axes>"
      ]
     },
     "metadata": {},
     "output_type": "display_data"
    }
   ],
   "source": [
    "filename = '/Users/ec627/Documents/Data/fMRI_data_powers_cognitive_tasks/power229_with_rest/Power229_10_sub-001_rest.txt'\n",
    "\n",
    "# orders studied in the paper: [3, 5, 7, 10]\n",
    "order = 4\n",
    "\n",
    "# to collect same data as in figure 4 in the main text, use repeat=10000\n",
    "syn_nplets, O_syn, red_nplets, O_red = collect_data_from_FC(\n",
    "    filename, order, repeat=100, method='greedy', verbose=True\n",
    "    )\n",
    "\n",
    "U_syn = collect_U(filename, syn_nplets, cuberootQ=False)\n",
    "U_red = collect_U(filename, red_nplets, cuberootQ=False)\n",
    "\n",
    "plt.scatter(U_syn, O_syn, label='top Synergistic', marker='o')\n",
    "plt.scatter(U_red, O_red, label='Top redundant', marker='o')"
   ]
  },
  {
   "cell_type": "code",
   "execution_count": 12,
   "id": "1a8c0829",
   "metadata": {},
   "outputs": [
    {
     "name": "stdout",
     "output_type": "stream",
     "text": [
      "file saved at  /Users/ec627/Documents/Data/fMRI_data_powers_cognitive_tasks/thoi_data_analysis/individuals_greedy/individual_1_method_greedy_repeats_10000_order_4.npy\n"
     ]
    }
   ],
   "source": [
    "folderpath='/Users/ec627/Documents/Data/fMRI_data_powers_cognitive_tasks/thoi_data_analysis/individuals_greedy/'\n",
    "\n",
    "# NOTE: manually change these\n",
    "individualID=1\n",
    "method='greedy'\n",
    "repeat=10000\n",
    "\n",
    "filename = f'individual_{individualID}_method_{method}_repeats_{repeat}_order_{order}.npy'\n",
    "\n",
    "res = {\n",
    "    \"U_syn\": U_syn, \"O_syn\": O_syn.numpy(),\n",
    "    \"U_red\": U_red, \"O_red\": O_red.numpy(),\n",
    "    \"syn_nplets\": syn_nplets.numpy(), \"red_nplets\": red_nplets.numpy(),\n",
    "    \"order\": order, \"individualID\": individualID\n",
    "    }\n",
    "\n",
    "# np.save(folderpath+filename, res)\n",
    "print('file saved at ', folderpath+filename)"
   ]
  }
 ],
 "metadata": {
  "kernelspec": {
   "display_name": "gt_hoi",
   "language": "python",
   "name": "python3"
  },
  "language_info": {
   "codemirror_mode": {
    "name": "ipython",
    "version": 3
   },
   "file_extension": ".py",
   "mimetype": "text/x-python",
   "name": "python",
   "nbconvert_exporter": "python",
   "pygments_lexer": "ipython3",
   "version": "3.13.3"
  }
 },
 "nbformat": 4,
 "nbformat_minor": 5
}
